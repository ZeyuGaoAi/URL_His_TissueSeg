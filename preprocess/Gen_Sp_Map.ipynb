{
 "cells": [
  {
   "cell_type": "markdown",
   "metadata": {},
   "source": [
    "## Superpixel Generation\n",
    "\n",
    "This notebook is to add a superpixel map for each image label (`.npy` format)."
   ]
  },
  {
   "cell_type": "code",
   "execution_count": 1,
   "metadata": {},
   "outputs": [],
   "source": [
    "import cv2\n",
    "import os\n",
    "import numpy as np\n",
    "import pandas as pd\n",
    "from tqdm import tqdm\n",
    "import glob\n",
    "\n",
    "import matplotlib.pyplot as plt \n",
    "\n",
    "from misc.utils import rm_n_mkdir"
   ]
  },
  {
   "cell_type": "code",
   "execution_count": 2,
   "metadata": {},
   "outputs": [],
   "source": [
    "img_ext = '.npy'\n",
    "step_size = [256, 256] # should match self.train_mask_shape (config.py) \n",
    "win_size  = [512, 512] # should be at least twice time larger than \n",
    "                       # self.train_base_shape (config.py) to reduce \n",
    "                       # the padding effect during augmentation\n",
    "region_size = 32\n",
    "\n",
    "img_dir = \"/home1/gzy/BreastCancerSeg/DATA/Train/%dx%d_%dx%d\" % \\\n",
    "                    (win_size[0], win_size[1], step_size[0], step_size[1])\n",
    "save_dir = \"/home1/gzy/BreastCancerSeg/DATA/Train/%dx%d_%dx%d_slic%d\" % \\\n",
    "                    (win_size[0], win_size[1], step_size[0], step_size[1], region_size)\n",
    "\n",
    "####\n",
    "\n",
    "file_list = glob.glob('%s/*%s' % (img_dir, img_ext))\n",
    "file_list.sort()\n",
    "\n",
    "rm_n_mkdir(save_dir)"
   ]
  },
  {
   "cell_type": "code",
   "execution_count": 8,
   "metadata": {},
   "outputs": [
    {
     "name": "stderr",
     "output_type": "stream",
     "text": [
      "100%|██████████| 1312/1312 [03:10<00:00,  7.81it/s]\n"
     ]
    }
   ],
   "source": [
    "for i in tqdm(range(len(file_list))):\n",
    "    ori_path = file_list[i]\n",
    "    basename = os.path.basename(ori_path)\n",
    "\n",
    "    ori = np.load(ori_path)\n",
    "    img = ori[...,:3].copy()\n",
    "    img = img.astype(np.uint8)\n",
    "\n",
    "    # super-pixel\n",
    "    slic = cv2.ximgproc.createSuperpixelSLIC(img, region_size=region_size)\n",
    "    slic.iterate(10)     #\n",
    "    mask_slic = slic.getLabelContourMask() #\n",
    "    label_slic = slic.getLabels()        #\n",
    "    \n",
    "    label_slic = np.expand_dims(label_slic, axis=-1)\n",
    "    label_slic = label_slic.astype('int32')\n",
    "\n",
    "    np.save(os.path.join(save_dir, basename), label_slic)"
   ]
  },
  {
   "cell_type": "code",
   "execution_count": null,
   "metadata": {},
   "outputs": [],
   "source": []
  }
 ],
 "metadata": {
  "kernelspec": {
   "display_name": "Python 3",
   "language": "python",
   "name": "python3"
  },
  "language_info": {
   "codemirror_mode": {
    "name": "ipython",
    "version": 3
   },
   "file_extension": ".py",
   "mimetype": "text/x-python",
   "name": "python",
   "nbconvert_exporter": "python",
   "pygments_lexer": "ipython3",
   "version": "3.7.3"
  }
 },
 "nbformat": 4,
 "nbformat_minor": 4
}
