{
 "cells": [
  {
   "cell_type": "markdown",
   "metadata": {},
   "source": [
    "## Extract Image&Label Patches For Training and Test\n",
    "\n",
    "This notebook is to extract Image&Label patches from original images and labels.\n",
    "\n",
    "The only thing you need to do, is to set up the `img_dir`, `ann_dir` and `out_dir`."
   ]
  },
  {
   "cell_type": "code",
   "execution_count": 4,
   "metadata": {},
   "outputs": [],
   "source": [
    "import glob\n",
    "import os\n",
    "from shutil import copyfile\n",
    "\n",
    "import scipy.io as sio\n",
    "\n",
    "import cv2\n",
    "import numpy as np\n",
    "import itertools\n",
    "import matplotlib.pyplot as plt\n",
    "from tqdm import tqdm\n",
    "\n",
    "from misc.patch_extractor import PatchExtractor\n",
    "from misc.utils import rm_n_mkdir\n",
    "\n",
    "from config import Config"
   ]
  },
  {
   "cell_type": "code",
   "execution_count": 11,
   "metadata": {},
   "outputs": [
    {
     "name": "stdout",
     "output_type": "stream",
     "text": [
      "['/home1/gzy/BreastCancerSeg/DATA/Train/512x512_256x256/']\n",
      "['/home1/gzy/BreastCancerSeg/DATA/Test/512x512_256x256/']\n"
     ]
    }
   ],
   "source": [
    "cfg = Config()\n",
    "\n",
    "img_ext = '.png'\n",
    "label_ext = '.png'\n",
    "\n",
    "extract_type = 'mirror' # 'valid' for fcn8 segnet etc.\n",
    "                        # 'mirror' for u-net etc.\n",
    "# check the patch_extractor.py 'main' to see the different\n",
    "\n",
    "# orignal size (win size) - input size - output size (step size)\n",
    "# 512x512 - 256x256 - 256x256 fcn8, dcan, segnet\n",
    "# 536x536 - 268x268 - 84x84   unet, dist\n",
    "# 540x540 - 270x270 - 80x80   xy, hover\n",
    "# 504x504 - 252x252 - 252x252 micronetcd tr\n",
    "step_size = [256, 256] # should match self.train_mask_shape (config.py) \n",
    "win_size  = [512, 512] # should be at least twice time larger than \n",
    "                       # self.train_base_shape (config.py) to reduce \n",
    "                       # the padding effect during augmentation\n",
    "\n",
    "xtractor = PatchExtractor(win_size, step_size)\n",
    "\n",
    "### Paths to data - these need to be modified according to where the original data is stored\n",
    "img_ext = '.png'\n",
    "img_dir = '/home1/gzy/BreastCancerSeg/DATA/Test/images/'\n",
    "ann_dir = '/home1/gzy/BreastCancerSeg/DATA/Test/masks/'\n",
    "####\n",
    "out_dir = \"/home1/gzy/BreastCancerSeg/DATA/Test/%dx%d_%dx%d\" % \\\n",
    "                    (win_size[0], win_size[1], step_size[0], step_size[1])\n",
    "\n",
    "file_list = glob.glob('%s/*%s' % (img_dir, img_ext))\n",
    "file_list.sort()\n",
    "\n",
    "rm_n_mkdir(out_dir)"
   ]
  },
  {
   "cell_type": "code",
   "execution_count": 12,
   "metadata": {},
   "outputs": [
    {
     "name": "stderr",
     "output_type": "stream",
     "text": [
      "100%|██████████| 44/44 [01:51<00:00,  2.54s/it]\n"
     ]
    }
   ],
   "source": [
    "for filename in tqdm(file_list):\n",
    "    filename = os.path.basename(filename)\n",
    "    basename = '.'.join(filename.split('.')[:-1])\n",
    "\n",
    "    img = cv2.imread(img_dir + basename + img_ext)\n",
    "    img = cv2.cvtColor(img, cv2.COLOR_BGR2RGB)\n",
    "    \n",
    "    label = cv2.imread(ann_dir + basename + label_ext, 0)\n",
    "    label = label - 1\n",
    "    # resize img and label to 1/4\n",
    "    h, w ,c = img.shape\n",
    "    img = cv2.resize(img, (int(w/4), int(h/4)), interpolation=cv2.INTER_CUBIC)\n",
    "    label = cv2.resize(label, (int(w/4), int(h/4)), interpolation=cv2.INTER_NEAREST)\n",
    "    \n",
    "    ann = np.expand_dims(label, axis=-1)\n",
    "    ann = ann.astype('int32')\n",
    "\n",
    "    img = np.concatenate([img, ann], axis=-1)\n",
    "    sub_patches = xtractor.extract(img, extract_type)\n",
    "    for idx, patch in enumerate(sub_patches):\n",
    "        np.save(\"{0}/{1}_{2:03d}.npy\".format(out_dir, basename, idx), patch)"
   ]
  },
  {
   "cell_type": "code",
   "execution_count": null,
   "metadata": {},
   "outputs": [],
   "source": []
  }
 ],
 "metadata": {
  "kernelspec": {
   "display_name": "Python 3",
   "language": "python",
   "name": "python3"
  },
  "language_info": {
   "codemirror_mode": {
    "name": "ipython",
    "version": 3
   },
   "file_extension": ".py",
   "mimetype": "text/x-python",
   "name": "python",
   "nbconvert_exporter": "python",
   "pygments_lexer": "ipython3",
   "version": "3.7.3"
  }
 },
 "nbformat": 4,
 "nbformat_minor": 4
}
